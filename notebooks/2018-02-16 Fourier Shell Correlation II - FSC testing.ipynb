{
 "cells": [
  {
   "cell_type": "markdown",
   "metadata": {},
   "source": [
    "# Fourier Shell Correlation II: Static FSC\n",
    "\n",
    "In order to start from a simple case, I will calculate the Fourier Shell Correlation for a single 3D image here. Let's start by loading some data (a tubulin image from the SuperTomo paper)."
   ]
  },
  {
   "cell_type": "code",
   "execution_count": 32,
   "metadata": {},
   "outputs": [],
   "source": [
    "%matplotlib inline\n",
    "from ipywidgets import interact, fixed\n",
    "\n",
    "import os\n",
    "import supertomo.ui.frc_options as options\n",
    "from supertomo.ui.plots.image import display_2d_image\n",
    "from supertomo.data.io import read\n",
    "import supertomo.processing.image as imops\n",
    "from supertomo.analysis.resolution.fourier_shell_correlation import DirectionalFSC\n",
    "\n",
    "def show_axial_slice(image, slice):\n",
    "    display_2d_image(image[slice])"
   ]
  },
  {
   "cell_type": "code",
   "execution_count": null,
   "metadata": {},
   "outputs": [
    {
     "name": "stdout",
     "output_type": "stream",
     "text": [
      "The zoom is [3.303030303030303, 1.0, 1.0]\n"
     ]
    },
    {
     "data": {
      "application/vnd.jupyter.widget-view+json": {
       "model_id": "4e252f5894ca47b89550f05f68d8ec88",
       "version_major": 2,
       "version_minor": 0
      },
      "text/html": [
       "<p>Failed to display Jupyter Widget of type <code>interactive</code>.</p>\n",
       "<p>\n",
       "  If you're reading this message in the Jupyter Notebook or JupyterLab Notebook, it may mean\n",
       "  that the widgets JavaScript is still loading. If this message persists, it\n",
       "  likely means that the widgets JavaScript library is either not installed or\n",
       "  not enabled. See the <a href=\"https://ipywidgets.readthedocs.io/en/stable/user_install.html\">Jupyter\n",
       "  Widgets Documentation</a> for setup instructions.\n",
       "</p>\n",
       "<p>\n",
       "  If you're reading this message in another frontend (for example, a static\n",
       "  rendering on GitHub or <a href=\"https://nbviewer.jupyter.org/\">NBViewer</a>),\n",
       "  it may mean that your frontend doesn't currently support widgets.\n",
       "</p>\n"
      ],
      "text/plain": [
       "interactive(children=(IntSlider(value=147, description=u'slice', max=295), Output()), _dom_classes=('widget-interact',))"
      ]
     },
     "metadata": {},
     "output_type": "display_data"
    },
    {
     "data": {
      "text/plain": [
       "<function __main__.show_axial_slice>"
      ]
     },
     "execution_count": 33,
     "metadata": {},
     "output_type": "execute_result"
    }
   ],
   "source": [
    "# Image\n",
    "data_dir = os.path.join(os.getcwd(), \"data\")\n",
    "image_name = \"original_scale_100_index_0_channel_0_angle_0.tif\"\n",
    "\n",
    "# Get script options\n",
    "args_list = [data_dir, '--bin-delta=3', '--normalize-power', '--frc-curve-fit-degree=5', \n",
    "            '--resolution-threshold-criterion=fixed', '--resolution-threshold-value=0.5',\n",
    "            '--angle-delta=30']\n",
    "args = options.get_frc_script_options(args_list)\n",
    "\n",
    "# Get image\n",
    "image = read.get_image(os.path.join(data_dir, image_name))\n",
    "image = imops.zoom_to_isotropic_spacing(image, order=0)\n",
    "\n",
    "image = imops.zero_pad_to_cube(image)\n",
    "#image = imops.crop_to_shape(image, [600]*3)\n",
    "image1, image2 = imops.checkerboard_split(image)\n",
    "\n",
    "interact(show_axial_slice, image=fixed(image1), slice=(0, image1.shape[0]-1))"
   ]
  },
  {
   "cell_type": "code",
   "execution_count": null,
   "metadata": {},
   "outputs": [],
   "source": [
    "fsc_task = DirectionalFSC(image1, image2, args)\n",
    "\n",
    "result = fsc_task.execute()"
   ]
  },
  {
   "cell_type": "code",
   "execution_count": null,
   "metadata": {
    "scrolled": true
   },
   "outputs": [],
   "source": [
    "import supertomo.ui.plots.frc as frcplots\n",
    "\n",
    "plotter = frcplots.FourierDataPlotter(result)\n",
    "plotter.plot_polar()"
   ]
  },
  {
   "cell_type": "code",
   "execution_count": null,
   "metadata": {},
   "outputs": [],
   "source": [
    "plotter.plot_all()"
   ]
  },
  {
   "cell_type": "code",
   "execution_count": null,
   "metadata": {},
   "outputs": [],
   "source": []
  },
  {
   "cell_type": "code",
   "execution_count": null,
   "metadata": {},
   "outputs": [],
   "source": []
  },
  {
   "cell_type": "code",
   "execution_count": null,
   "metadata": {},
   "outputs": [],
   "source": []
  }
 ],
 "metadata": {
  "anaconda-cloud": {},
  "kernelspec": {
   "display_name": "Python [conda env:supertomo2]",
   "language": "python",
   "name": "conda-env-supertomo2-py"
  },
  "language_info": {
   "codemirror_mode": {
    "name": "ipython",
    "version": 2
   },
   "file_extension": ".py",
   "mimetype": "text/x-python",
   "name": "python",
   "nbconvert_exporter": "python",
   "pygments_lexer": "ipython2",
   "version": "2.7.14"
  }
 },
 "nbformat": 4,
 "nbformat_minor": 2
}
