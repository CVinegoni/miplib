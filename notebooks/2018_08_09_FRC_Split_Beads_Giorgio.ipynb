{
 "cells": [
  {
   "cell_type": "markdown",
   "metadata": {},
   "source": [
    "# FRC with single images\n",
    "**IIT 2018-01**\n",
    "\n",
    "In this notebook I test the single image FRC with the same Nikon Confocal files that Taka gave me, with three different pinhole sizes."
   ]
  },
  {
   "cell_type": "code",
   "execution_count": 1,
   "metadata": {},
   "outputs": [
    {
     "name": "stdout",
     "output_type": "stream",
     "text": [
      "Namespace(d_angle=20, d_bin=8, d_extract_angle=5.0, debug=False, directory='/Users/sami/Documents/Work/Data/2018_08_09_Split', frc_curve_fit_degree=4, hanning=False, hollow_iterator=False, min_filter=False, pathout=None, resol_square=False, resolution_point_sigma=0.01, resolution_snr_value=0.25, resolution_threshold_criterion='snr', resolution_threshold_curve_fit_degree=3, resolution_threshold_value=0.5, use_splines=False)\n"
     ]
    }
   ],
   "source": [
    "%matplotlib inline\n",
    "import os\n",
    "import numpy as np\n",
    "import matplotlib.pyplot as plt\n",
    "from scipy.ndimage.interpolation import zoom\n",
    "\n",
    "import supertomo.analysis.resolution.fourier_ring_correlation as frc\n",
    "import supertomo.ui.frc_options as options\n",
    "import supertomo.ui.plots.image as showim\n",
    "import supertomo.data.io.read as read\n",
    "import supertomo.ui.plots.frc as frcplots\n",
    "import supertomo.processing.image as imops\n",
    "import supertomo.analysis.resolution.analysis as fsc_analysis\n",
    "import supertomo.data.iterators.fourier_ring_iterators as iterators\n",
    "\n",
    "\n",
    "\n",
    "from supertomo.data.containers.fourier_correlation_data import FourierCorrelationDataCollection\n",
    "\n",
    "import warnings\n",
    "warnings.filterwarnings(\"ignore\", message=\"Polyfit may be poorly conditioned\")\n",
    "\n",
    "data_dir = \"/Users/sami/Documents/Work/Data/2018_08_09_Split\"\n",
    "args_list = [data_dir, '--bin-delta=8', '--frc-curve-fit-degree=4', \n",
    "            '--resolution-threshold-criterion=snr', '--resolution-snr-value=0.25']\n",
    "\n",
    "args = options.get_frc_script_options(args_list)\n",
    "\n",
    "print args"
   ]
  },
  {
   "cell_type": "markdown",
   "metadata": {},
   "source": [
    "## Run FRC \n",
    "\n",
    "There are three image pairs in the dataset Taka gave me, each named with a pattern *filename_pinholesize.nd2* / *filename_pinholesize_.nd2*. Therefore it's rather easy to load them automatically for batch processing. Let's run the FRC for every image pair and save the results to FourierCorrelationDataCollection() which is the internal data format for storing FRC data."
   ]
  },
  {
   "cell_type": "code",
   "execution_count": 2,
   "metadata": {},
   "outputs": [
    {
     "ename": "TypeError",
     "evalue": "unsupported operand type(s) for *: 'int' and 'FourierRingIterator'",
     "output_type": "error",
     "traceback": [
      "\u001b[0;31m---------------------------------------------------------------------------\u001b[0m",
      "\u001b[0;31mTypeError\u001b[0m                                 Traceback (most recent call last)",
      "\u001b[0;32m<ipython-input-2-fd822598636b>\u001b[0m in \u001b[0;36m<module>\u001b[0;34m()\u001b[0m\n\u001b[1;32m     15\u001b[0m     \u001b[0mimage1\u001b[0m\u001b[0;34m,\u001b[0m \u001b[0mimage2\u001b[0m \u001b[0;34m=\u001b[0m \u001b[0mimops\u001b[0m\u001b[0;34m.\u001b[0m\u001b[0mcheckerboard_split\u001b[0m\u001b[0;34m(\u001b[0m\u001b[0mimage\u001b[0m\u001b[0;34m)\u001b[0m\u001b[0;34m\u001b[0m\u001b[0m\n\u001b[1;32m     16\u001b[0m     \u001b[0miterator\u001b[0m \u001b[0;34m=\u001b[0m \u001b[0miterators\u001b[0m\u001b[0;34m.\u001b[0m\u001b[0mFourierRingIterator\u001b[0m\u001b[0;34m(\u001b[0m\u001b[0mimage1\u001b[0m\u001b[0;34m.\u001b[0m\u001b[0mshape\u001b[0m\u001b[0;34m,\u001b[0m \u001b[0margs\u001b[0m\u001b[0;34m.\u001b[0m\u001b[0md_bin\u001b[0m\u001b[0;34m)\u001b[0m\u001b[0;34m\u001b[0m\u001b[0m\n\u001b[0;32m---> 17\u001b[0;31m     \u001b[0mfrc_task\u001b[0m \u001b[0;34m=\u001b[0m \u001b[0mfrc\u001b[0m\u001b[0;34m.\u001b[0m\u001b[0mFRC\u001b[0m\u001b[0;34m(\u001b[0m\u001b[0mimage1\u001b[0m\u001b[0;34m,\u001b[0m \u001b[0mimage2\u001b[0m\u001b[0;34m,\u001b[0m \u001b[0miterator\u001b[0m\u001b[0;34m)\u001b[0m\u001b[0;34m\u001b[0m\u001b[0m\n\u001b[0m\u001b[1;32m     18\u001b[0m     \u001b[0mdata\u001b[0m\u001b[0;34m[\u001b[0m\u001b[0midx\u001b[0m\u001b[0;34m]\u001b[0m \u001b[0;34m=\u001b[0m \u001b[0mfrc_task\u001b[0m\u001b[0;34m.\u001b[0m\u001b[0mexecute\u001b[0m\u001b[0;34m(\u001b[0m\u001b[0;34m)\u001b[0m\u001b[0;34m\u001b[0m\u001b[0m\n\u001b[1;32m     19\u001b[0m \u001b[0;34m\u001b[0m\u001b[0m\n",
      "\u001b[0;32m/Users/sami/Programming/GIT/supertomo2/supertomo/analysis/resolution/fourier_ring_correlation.pyc\u001b[0m in \u001b[0;36m__init__\u001b[0;34m(self, image1, image2, d_bin, normalize_power)\u001b[0m\n\u001b[1;32m     36\u001b[0m         \u001b[0mimage2\u001b[0m \u001b[0;34m=\u001b[0m \u001b[0mops_image\u001b[0m\u001b[0;34m.\u001b[0m\u001b[0mzero_pad_to_cube\u001b[0m\u001b[0;34m(\u001b[0m\u001b[0mimage2\u001b[0m\u001b[0;34m)\u001b[0m\u001b[0;34m\u001b[0m\u001b[0m\n\u001b[1;32m     37\u001b[0m \u001b[0;34m\u001b[0m\u001b[0m\n\u001b[0;32m---> 38\u001b[0;31m         \u001b[0mself\u001b[0m\u001b[0;34m.\u001b[0m\u001b[0miterator\u001b[0m \u001b[0;34m=\u001b[0m \u001b[0miterators\u001b[0m\u001b[0;34m.\u001b[0m\u001b[0mFourierRingIterator\u001b[0m\u001b[0;34m(\u001b[0m\u001b[0mimage1\u001b[0m\u001b[0;34m.\u001b[0m\u001b[0mshape\u001b[0m\u001b[0;34m,\u001b[0m \u001b[0md_bin\u001b[0m\u001b[0;34m)\u001b[0m\u001b[0;34m\u001b[0m\u001b[0m\n\u001b[0m\u001b[1;32m     39\u001b[0m         \u001b[0;31m# Calculate power spectra for the input images.\u001b[0m\u001b[0;34m\u001b[0m\u001b[0;34m\u001b[0m\u001b[0m\n\u001b[1;32m     40\u001b[0m         \u001b[0mself\u001b[0m\u001b[0;34m.\u001b[0m\u001b[0mfft_image1\u001b[0m \u001b[0;34m=\u001b[0m \u001b[0mnp\u001b[0m\u001b[0;34m.\u001b[0m\u001b[0mfft\u001b[0m\u001b[0;34m.\u001b[0m\u001b[0mfftshift\u001b[0m\u001b[0;34m(\u001b[0m\u001b[0mnp\u001b[0m\u001b[0;34m.\u001b[0m\u001b[0mfft\u001b[0m\u001b[0;34m.\u001b[0m\u001b[0mfft2\u001b[0m\u001b[0;34m(\u001b[0m\u001b[0mimage1\u001b[0m\u001b[0;34m)\u001b[0m\u001b[0;34m)\u001b[0m\u001b[0;34m\u001b[0m\u001b[0m\n",
      "\u001b[0;32m/Users/sami/Programming/GIT/supertomo2/supertomo/data/iterators/fourier_ring_iterators.py\u001b[0m in \u001b[0;36m__init__\u001b[0;34m(self, shape, d_bin)\u001b[0m\n\u001b[1;32m     22\u001b[0m         \u001b[0mself\u001b[0m\u001b[0;34m.\u001b[0m\u001b[0md_bin\u001b[0m \u001b[0;34m=\u001b[0m \u001b[0md_bin\u001b[0m\u001b[0;34m\u001b[0m\u001b[0m\n\u001b[1;32m     23\u001b[0m         \u001b[0mself\u001b[0m\u001b[0;34m.\u001b[0m\u001b[0mring_start\u001b[0m \u001b[0;34m=\u001b[0m \u001b[0;36m0\u001b[0m\u001b[0;34m\u001b[0m\u001b[0m\n\u001b[0;32m---> 24\u001b[0;31m         \u001b[0mself\u001b[0m\u001b[0;34m.\u001b[0m\u001b[0m_nbins\u001b[0m \u001b[0;34m=\u001b[0m \u001b[0mint\u001b[0m\u001b[0;34m(\u001b[0m\u001b[0mfloor\u001b[0m\u001b[0;34m(\u001b[0m\u001b[0mshape\u001b[0m\u001b[0;34m[\u001b[0m\u001b[0;36m0\u001b[0m\u001b[0;34m]\u001b[0m \u001b[0;34m/\u001b[0m \u001b[0;34m(\u001b[0m\u001b[0;36m2\u001b[0m \u001b[0;34m*\u001b[0m \u001b[0mself\u001b[0m\u001b[0;34m.\u001b[0m\u001b[0md_bin\u001b[0m\u001b[0;34m)\u001b[0m\u001b[0;34m)\u001b[0m\u001b[0;34m)\u001b[0m\u001b[0;34m\u001b[0m\u001b[0m\n\u001b[0m\u001b[1;32m     25\u001b[0m         \u001b[0;31m# Create Fourier grid\u001b[0m\u001b[0;34m\u001b[0m\u001b[0;34m\u001b[0m\u001b[0m\n\u001b[1;32m     26\u001b[0m         \u001b[0maxes\u001b[0m \u001b[0;34m=\u001b[0m \u001b[0;34m(\u001b[0m\u001b[0mnp\u001b[0m\u001b[0;34m.\u001b[0m\u001b[0marange\u001b[0m\u001b[0;34m(\u001b[0m\u001b[0;34m-\u001b[0m\u001b[0mnp\u001b[0m\u001b[0;34m.\u001b[0m\u001b[0mfloor\u001b[0m\u001b[0;34m(\u001b[0m\u001b[0mi\u001b[0m \u001b[0;34m/\u001b[0m \u001b[0;36m2.0\u001b[0m\u001b[0;34m)\u001b[0m\u001b[0;34m,\u001b[0m \u001b[0mnp\u001b[0m\u001b[0;34m.\u001b[0m\u001b[0mceil\u001b[0m\u001b[0;34m(\u001b[0m\u001b[0mi\u001b[0m \u001b[0;34m/\u001b[0m \u001b[0;36m2.0\u001b[0m\u001b[0;34m)\u001b[0m\u001b[0;34m)\u001b[0m \u001b[0;32mfor\u001b[0m \u001b[0mi\u001b[0m \u001b[0;32min\u001b[0m \u001b[0mshape\u001b[0m\u001b[0;34m)\u001b[0m\u001b[0;34m\u001b[0m\u001b[0m\n",
      "\u001b[0;31mTypeError\u001b[0m: unsupported operand type(s) for *: 'int' and 'FourierRingIterator'"
     ]
    }
   ],
   "source": [
    "from math import sqrt \n",
    "\n",
    "# Get sorted list of filenames\n",
    "files = sorted([f for f in os.listdir(args.directory) if f.endswith(\".tiff\")])\n",
    "\n",
    "data = FourierCorrelationDataCollection()\n",
    "spacing = (0.04, 0.04)\n",
    "\n",
    "# Calculate FRC for every image pair\n",
    "for idx, image_name in enumerate(files):\n",
    "    image_path = os.path.join(args.directory, image_name)\n",
    "    image = read.get_image(image_path)\n",
    "    image.spacing = spacing\n",
    "    \n",
    "    image1, image2 = imops.checkerboard_split(image)\n",
    "    iterator = iterators.FourierRingIterator(image1.shape, args.d_bin)\n",
    "    frc_task = frc.FRC(image1, image2, iterator)\n",
    "    data[idx] = frc_task.execute()\n",
    "                 \n",
    "\n",
    "analyzer = fsc_analysis.FourierCorrelationAnalysis(data, spacing[0]*sqrt(2), args)\n",
    "results = analyzer.execute()"
   ]
  },
  {
   "cell_type": "markdown",
   "metadata": {},
   "source": [
    "## Plot results\n",
    "\n",
    "Use Fourier Data Plotter to plot the FRC curves."
   ]
  },
  {
   "cell_type": "code",
   "execution_count": null,
   "metadata": {},
   "outputs": [],
   "source": [
    "plotter = frcplots.FourierDataPlotter(results)\n",
    "plotter.plot_all()"
   ]
  },
  {
   "cell_type": "markdown",
   "metadata": {},
   "source": [
    "The angle values here translate to pinhole sizes as follows: \n",
    "\n",
    "- 0 -> 0.4AU\n",
    "- 1 -> 1.2AU\n",
    "- 2 -> 2.0AU\n",
    "\n",
    "I use minimum filtering to minimize the effects of the saturation bumps at the tail end of the FRC curves. Also the curve fit is weighted with the amount of correlation.  There's still oscilallation, but at least the decay part follows the data quite nicely. "
   ]
  }
 ],
 "metadata": {
  "anaconda-cloud": {},
  "kernelspec": {
   "display_name": "Python [default]",
   "language": "python",
   "name": "python2"
  },
  "language_info": {
   "codemirror_mode": {
    "name": "ipython",
    "version": 2
   },
   "file_extension": ".py",
   "mimetype": "text/x-python",
   "name": "python",
   "nbconvert_exporter": "python",
   "pygments_lexer": "ipython2",
   "version": "2.7.14"
  }
 },
 "nbformat": 4,
 "nbformat_minor": 1
}
