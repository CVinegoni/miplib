{
 "cells": [
  {
   "cell_type": "markdown",
   "metadata": {
    "collapsed": true
   },
   "source": [
    "# Image scaling tests\n",
    "\n",
    "\n"
   ]
  },
  {
   "cell_type": "markdown",
   "metadata": {
    "collapsed": true
   },
   "source": [
    "## Open an image\n",
    "\n",
    "A 3D image is opened from a known location. The size of the image is reported"
   ]
  },
  {
   "cell_type": "code",
   "execution_count": 10,
   "metadata": {
    "collapsed": false
   },
   "outputs": [
    {
     "name": "stdout",
     "output_type": "stream",
     "text": [
      "The original spacing is:  (1.976e-07, 2.1623945319096993e-08, 2.1623945319096993e-08)\nThe original image size is:  (28, 1024, 1024)\n"
     ]
    }
   ],
   "source": [
    "import numpy as np\n",
    "import scipy.ndimage as ndimage\n",
    "\n",
    "import supertomo.io.utils as io_utils\n",
    "\n",
    "image, spacing = io_utils.get_imagej_tiff(\"/home/sami/test.tif\")\n",
    "\n",
    "print \"The original spacing is: \", spacing\n",
    "print \"The original image size is: \", image.shape"
   ]
  },
  {
   "cell_type": "markdown",
   "metadata": {},
   "source": [
    "## Interpolate to isotropic\n",
    "\n",
    "Here it is assumed that the *xy* spacing is equal, whereas *z* spacing may differ, which is typically the case in microscope images."
   ]
  },
  {
   "cell_type": "code",
   "execution_count": 11,
   "metadata": {
    "collapsed": false
   },
   "outputs": [
    {
     "name": "stdout",
     "output_type": "stream",
     "text": [
      "The new spacing is:  (2.1623945319096993e-08, 2.1623945319096993e-08, 2.1623945319096993e-08)\nThe new image size is:  (256, 1024, 1024)\n"
     ]
    }
   ],
   "source": [
    "if spacing[0] != spacing[1]:\n",
    "    z_zoom = spacing[0]/spacing[1]\n",
    "    image = ndimage.zoom(image, (z_zoom, 1, 1), order=3)\n",
    "    spacing = tuple(spacing[x] if x != 0 else spacing[x]/z_zoom for x in range(len(spacing)))\n",
    "    \n",
    "print \"The new spacing is: \", spacing\n",
    "print \"The new image size is: \", image.shape"
   ]
  },
  {
   "cell_type": "markdown",
   "metadata": {},
   "source": [
    "## Resize\n"
   ]
  },
  {
   "cell_type": "code",
   "execution_count": 13,
   "metadata": {
    "collapsed": false
   },
   "outputs": [
    {
     "name": "stdout",
     "output_type": "stream",
     "text": [
      "The new spacing is:  (5.405986329774248e-09, 5.405986329774248e-09, 5.405986329774248e-09)\nThe new image size is:  (64, 256, 256)\n"
     ]
    }
   ],
   "source": [
    "resize_factor = 0.5\n",
    "\n",
    "zoom = (resize_factor, resize_factor, resize_factor)\n",
    "image = ndimage.zoom(image, zoom, order=3)\n",
    "spacing = tuple(resize_factor*x for x in spacing)\n",
    "\n",
    "print \"The new spacing is: \", spacing\n",
    "print \"The new image size is: \", image.shape"
   ]
  },
  {
   "cell_type": "code",
   "execution_count": null,
   "metadata": {},
   "outputs": [],
   "source": [
    ""
   ]
  }
 ],
 "metadata": {
  "kernelspec": {
   "display_name": "Python 2",
   "language": "python",
   "name": "python2"
  },
  "language_info": {
   "codemirror_mode": {
    "name": "ipython",
    "version": 2.0
   },
   "file_extension": ".py",
   "mimetype": "text/x-python",
   "name": "python",
   "nbconvert_exporter": "python",
   "pygments_lexer": "ipython2",
   "version": "2.7.11"
  }
 },
 "nbformat": 4,
 "nbformat_minor": 0
}