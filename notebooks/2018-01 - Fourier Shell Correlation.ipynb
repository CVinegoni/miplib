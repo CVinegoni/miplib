{
 "cells": [
  {
   "cell_type": "markdown",
   "metadata": {},
   "source": [
    "# Fourier Ring Correlation\n",
    "\n",
    "Developing code for Fourier Ring Correlation for a project inspired by a recent paper on 3D resolution evaluation in CryoEM.\n",
    "\n",
    "*Tan, Yong Zi, Philip R Baldwin, Joseph H Davis, James R Williamson, Clinton S Potter, Bridget Carragher, and Dmitry Lyumkis. “Addressing Preferred Specimen Orientation in Single-Particle Cryo-EM through Tilting.” Nature Methods 14, no. 8 (July 3, 2017): 793–96. doi:10.1038/nmeth.4347.*\n",
    "\n",
    "In the paper they introduce a method that is able to deal with anisotropic resolution. For this purpose they modified the traditional FSC, by introducing an inclinatino angle term. "
   ]
  },
  {
   "cell_type": "markdown",
   "metadata": {},
   "source": [
    "## Indexing\n",
    "\n",
    "The authors provided their implementation of the algorithm no GitHub. However, that was quite horrible and I decided to rewrite the whole thing, based on my earlier FRC implementation. The first step isto figure out the indexing, as in order to add the angle terms $\\theta$ and $\\phi$ for inclination and azimuth I need to create an iterator that can work with spherical coordinates. For this purpose the first step is to create such a coordinate system."
   ]
  },
  {
   "cell_type": "code",
   "execution_count": 45,
   "metadata": {
    "collapsed": false
   },
   "outputs": [
    {
     "name": "stderr",
     "output_type": "stream",
     "text": [
      "pyculib:1: ImportWarning: Numba version too old; expecting 0.33.0\n"
     ]
    },
    {
     "name": "stdout",
     "output_type": "stream",
     "text": [
      "Successfully created the coordinate matrixes for spherical indexing.\n"
     ]
    },
    {
     "name": "stderr",
     "output_type": "stream",
     "text": [
      "/Users/sami/Programming/GIT/supertomo2/supertomo/processing/ops_array.py:190: RuntimeWarning: invalid value encountered in divide\n",
      "  result = numerator / denominator\n"
     ]
    }
   ],
   "source": [
    "import numpy as np\n",
    "import supertomo.processing.ops_array as ops_array\n",
    "\n",
    "# Create a cylindrical coordinate grid, based on the shape of an image.\n",
    "dims = (5,5,5)\n",
    "axes = (np.arange(-np.floor(i / 2.0), np.ceil(i / 2.0)) for i in dims)\n",
    "z, x, y = np.meshgrid(*axes)\n",
    "\n",
    "#Create OP vector array\n",
    "r = np.sqrt(x**2+y**2+z**2)\n",
    "        \n",
    "# Create inclination and azimuth angle arrays\n",
    "phi = np.arctan2(y, x)\n",
    "theta = np.arccos(ops_array.safe_divide(z, r))\n",
    "\n",
    "print (\"Successfully created the coordinate matrixes for spherical indexing.\")"
   ]
  },
  {
   "cell_type": "code",
   "execution_count": 44,
   "metadata": {
    "collapsed": false
   },
   "outputs": [
    {
     "name": "stderr",
     "output_type": "stream",
     "text": [
      "/Users/sami/anaconda/envs/supertomo2/lib/python2.7/site-packages/ipykernel/__main__.py:3: RuntimeWarning: invalid value encountered in divide\n",
      "  app.launch_new_instance()\n"
     ]
    },
    {
     "data": {
      "text/plain": [
       "array([[[ 2.18627604,  2.30052398,  2.35619449,  2.30052398,  2.18627604],\n",
       "        [ 1.91063324,  1.99133066,  2.03444394,  1.99133066,  1.91063324],\n",
       "        [ 1.57079633,  1.57079633,  1.57079633,  1.57079633,  1.57079633],\n",
       "        [ 1.23095942,  1.15026199,  1.10714872,  1.15026199,  1.23095942],\n",
       "        [ 0.95531662,  0.84106867,  0.78539816,  0.84106867,  0.95531662]],\n",
       "\n",
       "       [[ 2.30052398,  2.52611294,  2.67794504,  2.52611294,  2.30052398],\n",
       "        [ 1.99133066,  2.18627604,  2.35619449,  2.18627604,  1.99133066],\n",
       "        [ 1.57079633,  1.57079633,  1.57079633,  1.57079633,  1.57079633],\n",
       "        [ 1.15026199,  0.95531662,  0.78539816,  0.95531662,  1.15026199],\n",
       "        [ 0.84106867,  0.61547971,  0.46364761,  0.61547971,  0.84106867]],\n",
       "\n",
       "       [[ 2.35619449,  2.67794504,  3.14159265,  2.67794504,  2.35619449],\n",
       "        [ 2.03444394,  2.35619449,  3.14159265,  2.35619449,  2.03444394],\n",
       "        [ 1.57079633,  1.57079633,  1.57079633,  1.57079633,  1.57079633],\n",
       "        [ 1.10714872,  0.78539816,  0.        ,  0.78539816,  1.10714872],\n",
       "        [ 0.78539816,  0.46364761,  0.        ,  0.46364761,  0.78539816]],\n",
       "\n",
       "       [[ 2.30052398,  2.52611294,  2.67794504,  2.52611294,  2.30052398],\n",
       "        [ 1.99133066,  2.18627604,  2.35619449,  2.18627604,  1.99133066],\n",
       "        [ 1.57079633,  1.57079633,  1.57079633,  1.57079633,  1.57079633],\n",
       "        [ 1.15026199,  0.95531662,  0.78539816,  0.95531662,  1.15026199],\n",
       "        [ 0.84106867,  0.61547971,  0.46364761,  0.61547971,  0.84106867]],\n",
       "\n",
       "       [[ 2.18627604,  2.30052398,  2.35619449,  2.30052398,  2.18627604],\n",
       "        [ 1.91063324,  1.99133066,  2.03444394,  1.99133066,  1.91063324],\n",
       "        [ 1.57079633,  1.57079633,  1.57079633,  1.57079633,  1.57079633],\n",
       "        [ 1.23095942,  1.15026199,  1.10714872,  1.15026199,  1.23095942],\n",
       "        [ 0.95531662,  0.84106867,  0.78539816,  0.84106867,  0.95531662]]])"
      ]
     },
     "execution_count": 44,
     "metadata": {},
     "output_type": "execute_result"
    }
   ],
   "source": [
    "\n"
   ]
  },
  {
   "cell_type": "code",
   "execution_count": null,
   "metadata": {
    "collapsed": true
   },
   "outputs": [],
   "source": []
  }
 ],
 "metadata": {
  "anaconda-cloud": {},
  "kernelspec": {
   "display_name": "Python [conda env:supertomo2]",
   "language": "python",
   "name": "conda-env-supertomo2-py"
  },
  "language_info": {
   "codemirror_mode": {
    "name": "ipython",
    "version": 2
   },
   "file_extension": ".py",
   "mimetype": "text/x-python",
   "name": "python",
   "nbconvert_exporter": "python",
   "pygments_lexer": "ipython2",
   "version": "2.7.12"
  }
 },
 "nbformat": 4,
 "nbformat_minor": 1
}
