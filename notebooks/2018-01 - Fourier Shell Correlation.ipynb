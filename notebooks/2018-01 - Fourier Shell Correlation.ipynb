{
 "cells": [
  {
   "cell_type": "markdown",
   "metadata": {},
   "source": [
    "# Fourier Shell Correlation I : Indexing\n",
    "\n",
    "Developing code for Fourier Shell Correlation for a project inspired by a recent paper on 3D resolution evaluation in CryoEM.\n",
    "\n",
    "*Tan, Yong Zi, Philip R Baldwin, Joseph H Davis, James R Williamson, Clinton S Potter, Bridget Carragher, and Dmitry Lyumkis. “Addressing Preferred Specimen Orientation in Single-Particle Cryo-EM through Tilting.” Nature Methods 14, no. 8 (July 3, 2017): 793–96. doi:10.1038/nmeth.4347.*\n",
    "\n",
    "In the paper they introduce a method that is able to deal with anisotropic resolution. For this purpose they modified the traditional FSC, by introducing an inclinatino angle term. "
   ]
  },
  {
   "cell_type": "code",
   "execution_count": 1,
   "metadata": {},
   "outputs": [],
   "source": [
    "import numpy as np\n",
    "from mayavi import mlab\n",
    "#mlab.init_notebook(local=False)\n",
    "\n",
    "from supertomo.data.iterators.fourier_shell_iterators import ConicalFourierShellIterator\n",
    "#from supertomo.data.iterators.fourier_shell_correlation import DirectionalFSC\n",
    "from supertomo.data.containers.image import Image"
   ]
  },
  {
   "cell_type": "markdown",
   "metadata": {},
   "source": [
    "## Regular spherical iteration\n",
    "\n",
    "The authors provided their implementation of the algorithm no GitHub. However, that was quite horrible and I decided to rewrite the whole thing, based on my earlier FRC implementation. The first step isto figure out the indexing, as in order to add the angle term $\\phi$ for changing the orientation of resolution calculation, I needed to create an iterator that can work with spherical coordinates. Here I'll test drive it with some simple test data."
   ]
  },
  {
   "cell_type": "code",
   "execution_count": 2,
   "metadata": {
    "scrolled": false
   },
   "outputs": [],
   "source": [
    "#Create a test dataset and iterator\n",
    "dataset = Image(np.ones((255,255,255), dtype=np.uint8)*100, (0.05,0.05,0.05))\n",
    "iterator = ConicalFourierShellIterator(dataset.shape, 6, 30)\n",
    "\n",
    "#Extract a section (bin_start, bin_stop, angle_start, angle_stop)\n",
    "section = iterator[(100, 106, 30, 60)]\n",
    "dataset[section] = 255\n",
    "\n",
    "#Show\n",
    "mlab.contour3d(dataset)\n",
    "mlab.show()"
   ]
  },
  {
   "cell_type": "markdown",
   "metadata": {},
   "source": [
    "## Hollow section iterator"
   ]
  },
  {
   "cell_type": "raw",
   "metadata": {},
   "source": [
    "#Create a test dataset and iterator\n",
    "dataset2 = Image(np.ones((255,255,255), dtype=np.uint8)*20, (0.05,0.05,0.05))\n",
    "iterator2 = HollowFourierShellIterator(dataset.shape, 6, 20, 2)\n",
    "\n",
    "#Extract a section (bin_start, bin_stop, angle_start, angle_stop)\n",
    "section = iterator2[(100, 106, 30, 60)]\n",
    "dataset2[section] = 255\n",
    "\n",
    "#Show\n",
    "mlab.contour3d(dataset2)"
   ]
  },
  {
   "cell_type": "code",
   "execution_count": null,
   "metadata": {},
   "outputs": [],
   "source": []
  }
 ],
 "metadata": {
  "anaconda-cloud": {},
  "kernelspec": {
   "display_name": "Python [default]",
   "language": "python",
   "name": "python2"
  },
  "language_info": {
   "codemirror_mode": {
    "name": "ipython",
    "version": 2
   },
   "file_extension": ".py",
   "mimetype": "text/x-python",
   "name": "python",
   "nbconvert_exporter": "python",
   "pygments_lexer": "ipython2",
   "version": "2.7.14"
  }
 },
 "nbformat": 4,
 "nbformat_minor": 1
}
