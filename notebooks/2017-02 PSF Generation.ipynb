{
 "cells": [
  {
   "cell_type": "markdown",
   "metadata": {},
   "source": [
    "# Point Spread Function (PSF) generation\n",
    "\n",
    "Having a realsiting model for the PSF is important for the success of any deconvolution/image fusion task. Ideally one would always have a measured PSF available, but most often that is not the case. Therefore a theoretical PSF needs to be generated. Another alternative would be to use blind deconvolution -- but also in such case, theoretical PSF is needed as a starting parameter. "
   ]
  },
  {
   "cell_type": "code",
   "execution_count": 5,
   "metadata": {},
   "outputs": [],
   "source": [
    "%matplotlib inline\n",
    "from ipywidgets import interact, fixed\n",
    "\n",
    "import numpy as np\n",
    "from supertomo.psf import psfgen as psf\n",
    "import supertomo.ui.plots.image as implot\n",
    "\n",
    "\n",
    "\n",
    "def show_orthogonal_plot(image, x, y, z):\n",
    "    figure = implot.create_axial_views_plot(image, x, y, z)"
   ]
  },
  {
   "cell_type": "markdown",
   "metadata": {},
   "source": [
    "## Diffraction limited PSFs\n",
    "\n",
    "The theoretical PSF estimation in SuperTomo is based on the excellent Python implementation of several theoretical PSF models by [Christoph Gohlke](https://www.lfd.uci.edu/~gohlke/). Here a PSF is generated for a confocal system with 100x/1.4 oil immersion objective and small 0.5 Au pinhole. "
   ]
  },
  {
   "cell_type": "code",
   "execution_count": 6,
   "metadata": {},
   "outputs": [
    {
     "data": {
      "image/png": "[encoded data removed]",
      "text/plain": [
       "<matplotlib.figure.Figure at 0x1161ca610>"
      ]
     },
     "metadata": {},
     "output_type": "display_data"
    }
   ],
   "source": [
    "test_psf = psf.PSF(psf.GAUSSIAN | psf.CONFOCAL, ex_wavelen=488, em_wavelen=550, num_aperture=1.4, refr_index=1.51, pinhole_radius=.5, magnification=100.0)\n",
    "psf_image = test_psf.volume()\n",
    "z_len, y_len, x_len = image.shape\n",
    "\n",
    "show_orthogonal_plot(psf_image, x_len/2, y_len/2, z_len/2)"
   ]
  },
  {
   "cell_type": "markdown",
   "metadata": {},
   "source": [
    "## STED PSF\n",
    "\n",
    "In STED PSF the regular confocal PSF gets modified by the depletion donut. The theoretical model is described in:\n",
    "\n",
    "*Zanella, R. et al., 2013. Towards real-time image deconvolution: application to confocal and STED microscopy. Scientific reports, 3, p.2523. Available at: http://www.nature.com/srep/2013/130828/srep02523/full/srep02523.htm.*\n",
    "\n"
   ]
  },
  {
   "cell_type": "code",
   "execution_count": 7,
   "metadata": {},
   "outputs": [
    {
     "data": {
      "image/png": "[encoded data removed]",
      "text/plain": [
       "<matplotlib.figure.Figure at 0x11a8f2350>"
      ]
     },
     "metadata": {},
     "output_type": "display_data"
    }
   ],
   "source": [
    "test_psf.sted_correction()\n",
    "sted_psf_image = test_psf.volume()\n",
    "\n",
    "show_orthogonal_plot(sted_psf_image, x_len/2, y_len/2, z_len/2)"
   ]
  }
 ],
 "metadata": {
  "kernelspec": {
   "display_name": "Python [default]",
   "language": "python",
   "name": "python2"
  },
  "language_info": {
   "codemirror_mode": {
    "name": "ipython",
    "version": 2
   },
   "file_extension": ".py",
   "mimetype": "text/x-python",
   "name": "python",
   "nbconvert_exporter": "python",
   "pygments_lexer": "ipython2",
   "version": "2.7.14"
  },
  "widgets": {
   "state": {
    "b14de9384f144fb4b7cb2a9e16eb1c80": {
     "views": [
      {
       "cell_index": 4
      }
     ]
    },
    "fa18111434144f608b460a16048ed3f8": {
     "views": [
      {
       "cell_index": 1
      }
     ]
    }
   },
   "version": "1.2.0"
  }
 },
 "nbformat": 4,
 "nbformat_minor": 1
}
