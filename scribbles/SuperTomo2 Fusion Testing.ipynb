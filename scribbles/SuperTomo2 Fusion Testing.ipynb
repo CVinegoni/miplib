{
 "cells": [
  {
   "cell_type": "markdown",
   "metadata": {},
   "source": [
    "# *SuperTomo2* fusion testing\n",
    "\n",
    "The whole image fusion coda was rewritten in *SuperTomo2* in order to take advantage of certain new features in the Anaconda Python distribution. The fusion code was modified to allow processing of images of any size, by dividing them in several smaller blocks. GPU acceleration was added as well. "
   ]
  },
  {
   "cell_type": "code",
   "execution_count": 1,
   "metadata": {
    "collapsed": false
   },
   "outputs": [],
   "source": [
    "%matplotlib inline\n",
    "import os\n",
    "import numpy\n",
    "from ipywidgets import interact, fixed\n",
    "\n",
    "from supertomo.ui import arguments                     # Command line arguments\n",
    "from supertomo.io import image_data                    # Data structure\n",
    "from supertomo.reconstruction import fusion            # Image registration functions\n",
    "from supertomo.ui import show\n",
    "from supertomo.utils import itkutils\n",
    "\n",
    "from accelerate import profiler\n",
    "\n"
   ]
  },
  {
   "cell_type": "markdown",
   "metadata": {},
   "source": [
    "The same command line layout is used as in all the other *SuperTomo2* scripts. Here the parameters are simulated with a string. The *hela_full_test.hdf5* dataset contains the HeLa cell images from the first SuperTomo publication.\n",
    "\n",
    "The full size images are used here. The image fusion is divided into 24 blocks and the blocks are padded with 125 pixels on each side to avoid fusion artefacts."
   ]
  },
  {
   "cell_type": "code",
   "execution_count": 2,
   "metadata": {
    "collapsed": false
   },
   "outputs": [
    {
     "name": "stdout",
     "output_type": "stream",
     "text": [
      "['hela_full_test.hdf5', '--dir=/home/sami/Data/SuperTomo2/Import', '--max-nof-iterations=1', '--first-estimate=constant', '--fusion-method=summative', '--scale=100', '--blocks=24', '--pad=125']\n"
     ]
    }
   ],
   "source": [
    "fuse_args = (\"hela_full_test.hdf5 --dir=/home/sami/Data/SuperTomo2/Import \"  \n",
    "             \"--max-nof-iterations=1  --first-estimate=constant \" \n",
    "             \"--fusion-method=summative --scale=100 --blocks=24 --pad=125\").split()\n",
    "            \n",
    "print fuse_args\n",
    "\n",
    "options = arguments.get_fusion_script_options(fuse_args)\n",
    "\n",
    "\n"
   ]
  },
  {
   "cell_type": "code",
   "execution_count": 3,
   "metadata": {
    "collapsed": true
   },
   "outputs": [],
   "source": [
    "full_path = os.path.join(options.working_directory,\n",
    "                         options.data_file)\n",
    "\n",
    "if not os.path.isfile(full_path):\n",
    "    raise AttributeError(\"No such file: %s\" % full_path)\n",
    "elif not full_path.endswith(\".hdf5\"):\n",
    "    raise AttributeError(\"Not a HDF5 file\")\n",
    "\n",
    "data = image_data.ImageData(full_path)"
   ]
  },
  {
   "cell_type": "markdown",
   "metadata": {},
   "source": [
    "## MKLFFT Fusion on CPU\n",
    "\n",
    "The old image fusion code was rewritten to take advantage of MKL optimized FFT algorithms in the Anaconda package. All the same algorithms are available as in *SuperTomo1*"
   ]
  },
  {
   "cell_type": "code",
   "execution_count": 4,
   "metadata": {
    "collapsed": false
   },
   "outputs": [
    {
     "name": "stdout",
     "output_type": "stream",
     "text": [
      "The original image size is 198 1024 1024\n"
     ]
    },
    {
     "name": "stderr",
     "output_type": "stream",
     "text": [
      "/home/sami/anaconda2/envs/supertomo2/lib/python2.7/site-packages/scipy/ndimage/interpolation.py:549: UserWarning: From scipy 0.13.0, the output shape of zoom() is calculated with round() instead of int() - for these inputs the size of the returned array has changed.\n",
      "  \"the returned array has changed.\", UserWarning)\n"
     ]
    },
    {
     "name": "stdout",
     "output_type": "stream",
     "text": [
      "The fusion will be run with 24 blocks\n",
      "The internal image size is 200 1026 1024\n"
     ]
    }
   ],
   "source": [
    "task = fusion.MultiViewFusionRL(data, options)"
   ]
  },
  {
   "cell_type": "markdown",
   "metadata": {},
   "source": [
    "The image fusion can now be run on a regular computer, which was not previously possible due to huge memory requirements when using large images. However, as one could expect, the going is slow. One estimate calculation takes 5470s (1,5h). The performance can be improved by reducing the number of blocks -- but of course the amount of available blocks plays a role in that. Most of the time is spent in the FFT functions. The MKL optimizations work, but do not make miracles."
   ]
  },
  {
   "cell_type": "code",
   "execution_count": 5,
   "metadata": {
    "collapsed": false
   },
   "outputs": [
    {
     "name": "stdout",
     "output_type": "stream",
     "text": [
      "Beginning the computation of the 0. estimate\n",
      "The current block is 1\n"
     ]
    },
    {
     "name": "stderr",
     "output_type": "stream",
     "text": [
      "/home/sami/Programming/GIT/supertomo2/supertomo/reconstruction/fusion.py:128: RuntimeWarning: invalid value encountered in divide\n",
      "  cache = block / cache\n"
     ]
    },
    {
     "name": "stdout",
     "output_type": "stream",
     "text": [
      "The current block is 2\n",
      "The current block is 3\n",
      "The current block is 4\n",
      "The current block is 5\n",
      "The current block is 6\n",
      "The current block is 7\n",
      "The current block is 8\n",
      "The current block is 9\n",
      "The current block is 10\n",
      "The current block is 11\n",
      "The current block is 12\n",
      "The current block is 13\n",
      "The current block is 14\n",
      "The current block is 15\n",
      "The current block is 16\n",
      "The current block is 17\n",
      "The current block is 18\n",
      "The current block is 19\n",
      "The current block is 20\n",
      "The current block is 21\n",
      "The current block is 22\n",
      "The current block is 23\n",
      "The current block is 24\n"
     ]
    },
    {
     "data": {
      "text/html": [
       "<div class=\"resizable\" style=\"height:500px;\">\n",
       "<iframe src=\"./snakeviz.html\" width=\"100%\" height=\"100%\"/>\n",
       "</div>\n",
       "<script type=\"text/javascript\">\n",
       "$(function() {\n",
       "  $('.resizable').resizable({\n",
       "      handles: 'n,s',\n",
       "      start: function(event, ui) {\n",
       "        $('iframe').css('pointer-events','none');\n",
       "         },\n",
       "      stop: function(event, ui) {\n",
       "        $('iframe').css('pointer-events','auto');\n",
       "      }\n",
       "  });\n",
       "});\n",
       "</script>\n"
      ],
      "text/plain": [
       "<IPython.core.display.HTML object>"
      ]
     },
     "execution_count": 5,
     "metadata": {},
     "output_type": "execute_result"
    }
   ],
   "source": [
    "\n",
    "task.estimate = numpy.ones(task.image_size, dtype=numpy.float32)\n",
    "#cProfile.run('task.compute_estimate()')\n",
    "p = profiler.Profile(signatures=False)\n",
    "p.enable()\n",
    "task.compute_estimate()\n",
    "p.disable()\n",
    "profiler.plot(p)"
   ]
  },
  {
   "cell_type": "markdown",
   "metadata": {},
   "source": [
    "## CUDA fusion on a GPU\n",
    "\n",
    "Hardware acceleration features were added in order to make the image fusion times more reasonable. With 24 blocks calculation of a single estimate on a GPU takes 157 seconds (2,5 minutes), an improvement of ~36 times over the non-accelerated code. **The CUDA code can be run at 8 blocks at minimum, which further reduces the time to ~110 seconds per iteration, an improvement of ~50 times**."
   ]
  },
  {
   "cell_type": "code",
   "execution_count": 6,
   "metadata": {
    "collapsed": false,
    "scrolled": true
   },
   "outputs": [
    {
     "name": "stdout",
     "output_type": "stream",
     "text": [
      "The original image size is 198 1024 1024\n",
      "The fusion will be run with 24 blocks\n",
      "The internal image size is 200 1026 1024\n",
      "kernel config: (24, 19, 38) x (32, 32, 8)\n"
     ]
    }
   ],
   "source": [
    "from supertomo.reconstruction import fusion_cuda\n",
    "\n",
    "task2 = fusion_cuda.MultiViewFusionRLCuda(data, options)"
   ]
  },
  {
   "cell_type": "code",
   "execution_count": 7,
   "metadata": {
    "collapsed": false
   },
   "outputs": [
    {
     "name": "stdout",
     "output_type": "stream",
     "text": [
      "Beginning the computation of the 0. estimate\n"
     ]
    },
    {
     "data": {
      "text/html": [
       "<div class=\"resizable\" style=\"height:500px;\">\n",
       "<iframe src=\"./snakeviz.html\" width=\"100%\" height=\"100%\"/>\n",
       "</div>\n",
       "<script type=\"text/javascript\">\n",
       "$(function() {\n",
       "  $('.resizable').resizable({\n",
       "      handles: 'n,s',\n",
       "      start: function(event, ui) {\n",
       "        $('iframe').css('pointer-events','none');\n",
       "         },\n",
       "      stop: function(event, ui) {\n",
       "        $('iframe').css('pointer-events','auto');\n",
       "      }\n",
       "  });\n",
       "});\n",
       "</script>\n"
      ],
      "text/plain": [
       "<IPython.core.display.HTML object>"
      ]
     },
     "execution_count": 7,
     "metadata": {},
     "output_type": "execute_result"
    }
   ],
   "source": [
    "\n",
    "task2.estimate = numpy.ones(task2.image_size, dtype=numpy.float32)\n",
    "p2 = profiler.Profile(signatures=False)\n",
    "p2.enable()\n",
    "task2.compute_estimate()\n",
    "p2.disable()\n",
    "profiler.plot(p2)\n",
    "#cProfile.run('task2.compute_estimate()')"
   ]
  },
  {
   "cell_type": "code",
   "execution_count": 8,
   "metadata": {
    "collapsed": true
   },
   "outputs": [],
   "source": [
    "data.close()"
   ]
  },
  {
   "cell_type": "code",
   "execution_count": null,
   "metadata": {
    "collapsed": true
   },
   "outputs": [],
   "source": []
  }
 ],
 "metadata": {
  "kernelspec": {
   "display_name": "Python 2",
   "language": "python",
   "name": "python2"
  },
  "language_info": {
   "codemirror_mode": {
    "name": "ipython",
    "version": 2
   },
   "file_extension": ".py",
   "mimetype": "text/x-python",
   "name": "python",
   "nbconvert_exporter": "python",
   "pygments_lexer": "ipython2",
   "version": "2.7.12"
  }
 },
 "nbformat": 4,
 "nbformat_minor": 0
}
