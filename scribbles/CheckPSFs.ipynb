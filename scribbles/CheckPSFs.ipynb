{
 "cells": [
  {
   "cell_type": "code",
   "execution_count": 1,
   "metadata": {
    "collapsed": false
   },
   "outputs": [
    {
     "name": "stdout",
     "output_type": "stream",
     "text": [
      "Succesfully loaded /home/sami/Data/2016_10_tomoSTED_BHK21_adherent/test_file.hdf5\n"
     ]
    }
   ],
   "source": [
    "%matplotlib inline\n",
    "\n",
    "import SimpleITK as sitk\n",
    "import os\n",
    "from supertomo.ui import show\n",
    "from supertomo.utils import itkutils\n",
    "from supertomo.io import image_data, utils\n",
    "\n",
    "from ipywidgets import interact, fixed\n",
    "\n",
    "\n",
    "file_path = \"/home/sami/Data/2016_10_tomoSTED_BHK21_adherent/test_file.hdf5\"\n",
    "\n",
    "data = image_data.ImageData(file_path) \n",
    "\n",
    "print \"Succesfully loaded\", file_path"
   ]
  },
  {
   "cell_type": "code",
   "execution_count": null,
   "metadata": {
    "collapsed": true
   },
   "outputs": [],
   "source": [
    "data.set_active_image(1, 0, 100, \"registered\")\n",
    "sitk.Show(data.get_itk_image())\n",
    "\n",
    "data.set_active_image(1, 0, 100, \"psf\")\n",
    "sitk.Show(data.get_itk_image())\n"
   ]
  },
  {
   "cell_type": "code",
   "execution_count": null,
   "metadata": {
    "collapsed": true
   },
   "outputs": [],
   "source": []
  }
 ],
 "metadata": {
  "kernelspec": {
   "display_name": "Python 2",
   "language": "python",
   "name": "python2"
  },
  "language_info": {
   "codemirror_mode": {
    "name": "ipython",
    "version": 2
   },
   "file_extension": ".py",
   "mimetype": "text/x-python",
   "name": "python",
   "nbconvert_exporter": "python",
   "pygments_lexer": "ipython2",
   "version": "2.7.12"
  }
 },
 "nbformat": 4,
 "nbformat_minor": 0
}
