{
 "cells": [
  {
   "cell_type": "code",
   "execution_count": 1,
   "metadata": {
    "collapsed": false
   },
   "outputs": [
    {
     "name": "stdout",
     "output_type": "stream",
     "text": [
      "Select four landmark pairs\n",
      "x = 1821, y = 1716\n",
      "x = 3168, y = 1928\n",
      "x = 972, y = 3124\n",
      "x = 2272, y = 1729\n",
      "x = 4306, y = 805\n",
      "x = 736, y = 2255\n",
      "x = 1739, y = 4242\n",
      "x = 3438, y = 705\n"
     ]
    },
    {
     "data": {
      "text/plain": [
       "([[16.279748638160527, 15.341048140078783],\n",
       "  [8.689684610813856, 27.928574819117785],\n",
       "  [38.49566042609513, 7.196703818626702],\n",
       "  [15.546668249182403, 37.923500122502446]],\n",
       " [[28.32192027568817, 17.236320167779922],\n",
       "  [20.31168019771576, 15.457260150462389],\n",
       "  [6.579840064048767, 20.159700196236372]])"
      ]
     },
     "execution_count": 1,
     "metadata": {},
     "output_type": "execute_result"
    }
   ],
   "source": [
    "import SimpleITK as sitk\n",
    "import os\n",
    "from supertomo.ui import show\n",
    "from supertomo.utils import itkutils\n",
    "\n",
    "working_directory = \"/home/sami/Data/2016-CLEM/2016_06_CLEM_Data\"\n",
    "em_image_path = os.path.join(\n",
    "    working_directory, \n",
    "    \"grid3_P3_6_TEM_xmirrored_inverted.mha\"\n",
    ")\n",
    "sted_image_path = os.path.join(\n",
    "    working_directory, \n",
    "    \"grid3_72h_series018_sted_max.mha\"\n",
    ")\n",
    "em_image = sitk.ReadImage(em_image_path)\n",
    "sted_image = sitk.ReadImage(sted_image_path)\n",
    "\n",
    "show.display_2d_images(sted_image, em_image, landmarks=True)"
   ]
  },
  {
   "cell_type": "code",
   "execution_count": null,
   "metadata": {
    "collapsed": true
   },
   "outputs": [],
   "source": []
  },
  {
   "cell_type": "code",
   "execution_count": null,
   "metadata": {
    "collapsed": true
   },
   "outputs": [],
   "source": []
  }
 ],
 "metadata": {
  "kernelspec": {
   "display_name": "Python 2",
   "language": "python",
   "name": "python2"
  },
  "language_info": {
   "codemirror_mode": {
    "name": "ipython",
    "version": 2
   },
   "file_extension": ".py",
   "mimetype": "text/x-python",
   "name": "python",
   "nbconvert_exporter": "python",
   "pygments_lexer": "ipython2",
   "version": "2.7.12"
  }
 },
 "nbformat": 4,
 "nbformat_minor": 0
}
