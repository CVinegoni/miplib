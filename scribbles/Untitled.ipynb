{
 "cells": [
  {
   "cell_type": "code",
   "execution_count": 1,
   "metadata": {
    "collapsed": false
   },
   "outputs": [
    {
     "name": "stdout",
     "output_type": "stream",
     "text": [
      "Succesfully loaded /home/sami/Data/2016_10_tomoSTED_K562_suspension/k562_suspension.hdf5\n"
     ]
    }
   ],
   "source": [
    "from supertomo.io import image_data\n",
    "import SimpleITK as sitk\n",
    "\n",
    "file_path = \"/home/sami/Data/2016_10_tomoSTED_K562_suspension/k562_suspension.hdf5\"\n",
    "\n",
    "data = image_data.ImageData(file_path) \n",
    "\n",
    "print \"Succesfully loaded\", file_path\n",
    "\n",
    "data.set_active_image(0, 0, 40, \"original\")\n",
    "sitk.Show(data.get_itk_image())\n"
   ]
  },
  {
   "cell_type": "code",
   "execution_count": null,
   "metadata": {
    "collapsed": true
   },
   "outputs": [],
   "source": []
  }
 ],
 "metadata": {
  "kernelspec": {
   "display_name": "Python 2",
   "language": "python",
   "name": "python2"
  },
  "language_info": {
   "codemirror_mode": {
    "name": "ipython",
    "version": 2
   },
   "file_extension": ".py",
   "mimetype": "text/x-python",
   "name": "python",
   "nbconvert_exporter": "python",
   "pygments_lexer": "ipython2",
   "version": "2.7.12"
  }
 },
 "nbformat": 4,
 "nbformat_minor": 0
}
